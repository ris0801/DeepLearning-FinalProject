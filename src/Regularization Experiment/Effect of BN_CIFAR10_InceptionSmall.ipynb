{
  "nbformat": 4,
  "nbformat_minor": 0,
  "metadata": {
    "colab": {
      "name": "SMAI_Project.ipynb",
      "provenance": []
    },
    "kernelspec": {
      "name": "python3",
      "display_name": "Python 3"
    },
    "language_info": {
      "name": "python"
    },
    "accelerator": "GPU",
    "widgets": {
      "application/vnd.jupyter.widget-state+json": {
        "8c74be5f7c684fcfb1839184d5584532": {
          "model_module": "@jupyter-widgets/controls",
          "model_name": "HBoxModel",
          "state": {
            "_view_name": "HBoxView",
            "_dom_classes": [],
            "_model_name": "HBoxModel",
            "_view_module": "@jupyter-widgets/controls",
            "_model_module_version": "1.5.0",
            "_view_count": null,
            "_view_module_version": "1.5.0",
            "box_style": "",
            "layout": "IPY_MODEL_9aa25c58ec044756adea9a6da296f7c1",
            "_model_module": "@jupyter-widgets/controls",
            "children": [
              "IPY_MODEL_5e4b1ee7d0944b489da4f2d1618cf19f",
              "IPY_MODEL_08230102b90f4a51b77b186617d96feb"
            ]
          }
        },
        "9aa25c58ec044756adea9a6da296f7c1": {
          "model_module": "@jupyter-widgets/base",
          "model_name": "LayoutModel",
          "state": {
            "_view_name": "LayoutView",
            "grid_template_rows": null,
            "right": null,
            "justify_content": null,
            "_view_module": "@jupyter-widgets/base",
            "overflow": null,
            "_model_module_version": "1.2.0",
            "_view_count": null,
            "flex_flow": null,
            "width": null,
            "min_width": null,
            "border": null,
            "align_items": null,
            "bottom": null,
            "_model_module": "@jupyter-widgets/base",
            "top": null,
            "grid_column": null,
            "overflow_y": null,
            "overflow_x": null,
            "grid_auto_flow": null,
            "grid_area": null,
            "grid_template_columns": null,
            "flex": null,
            "_model_name": "LayoutModel",
            "justify_items": null,
            "grid_row": null,
            "max_height": null,
            "align_content": null,
            "visibility": null,
            "align_self": null,
            "height": null,
            "min_height": null,
            "padding": null,
            "grid_auto_rows": null,
            "grid_gap": null,
            "max_width": null,
            "order": null,
            "_view_module_version": "1.2.0",
            "grid_template_areas": null,
            "object_position": null,
            "object_fit": null,
            "grid_auto_columns": null,
            "margin": null,
            "display": null,
            "left": null
          }
        },
        "5e4b1ee7d0944b489da4f2d1618cf19f": {
          "model_module": "@jupyter-widgets/controls",
          "model_name": "FloatProgressModel",
          "state": {
            "_view_name": "ProgressView",
            "style": "IPY_MODEL_a540561c94be43118cea23fa42ba95d3",
            "_dom_classes": [],
            "description": "",
            "_model_name": "FloatProgressModel",
            "bar_style": "success",
            "max": 170498071,
            "_view_module": "@jupyter-widgets/controls",
            "_model_module_version": "1.5.0",
            "value": 170498071,
            "_view_count": null,
            "_view_module_version": "1.5.0",
            "orientation": "horizontal",
            "min": 0,
            "description_tooltip": null,
            "_model_module": "@jupyter-widgets/controls",
            "layout": "IPY_MODEL_412b85d2413f4255aab348d287ea6aee"
          }
        },
        "08230102b90f4a51b77b186617d96feb": {
          "model_module": "@jupyter-widgets/controls",
          "model_name": "HTMLModel",
          "state": {
            "_view_name": "HTMLView",
            "style": "IPY_MODEL_514d261e69fe4e49bc804657072972c3",
            "_dom_classes": [],
            "description": "",
            "_model_name": "HTMLModel",
            "placeholder": "​",
            "_view_module": "@jupyter-widgets/controls",
            "_model_module_version": "1.5.0",
            "value": " 170499072/? [05:18&lt;00:00, 535966.10it/s]",
            "_view_count": null,
            "_view_module_version": "1.5.0",
            "description_tooltip": null,
            "_model_module": "@jupyter-widgets/controls",
            "layout": "IPY_MODEL_d743181543794778b7cfe4b92208ac46"
          }
        },
        "a540561c94be43118cea23fa42ba95d3": {
          "model_module": "@jupyter-widgets/controls",
          "model_name": "ProgressStyleModel",
          "state": {
            "_view_name": "StyleView",
            "_model_name": "ProgressStyleModel",
            "description_width": "initial",
            "_view_module": "@jupyter-widgets/base",
            "_model_module_version": "1.5.0",
            "_view_count": null,
            "_view_module_version": "1.2.0",
            "bar_color": null,
            "_model_module": "@jupyter-widgets/controls"
          }
        },
        "412b85d2413f4255aab348d287ea6aee": {
          "model_module": "@jupyter-widgets/base",
          "model_name": "LayoutModel",
          "state": {
            "_view_name": "LayoutView",
            "grid_template_rows": null,
            "right": null,
            "justify_content": null,
            "_view_module": "@jupyter-widgets/base",
            "overflow": null,
            "_model_module_version": "1.2.0",
            "_view_count": null,
            "flex_flow": null,
            "width": null,
            "min_width": null,
            "border": null,
            "align_items": null,
            "bottom": null,
            "_model_module": "@jupyter-widgets/base",
            "top": null,
            "grid_column": null,
            "overflow_y": null,
            "overflow_x": null,
            "grid_auto_flow": null,
            "grid_area": null,
            "grid_template_columns": null,
            "flex": null,
            "_model_name": "LayoutModel",
            "justify_items": null,
            "grid_row": null,
            "max_height": null,
            "align_content": null,
            "visibility": null,
            "align_self": null,
            "height": null,
            "min_height": null,
            "padding": null,
            "grid_auto_rows": null,
            "grid_gap": null,
            "max_width": null,
            "order": null,
            "_view_module_version": "1.2.0",
            "grid_template_areas": null,
            "object_position": null,
            "object_fit": null,
            "grid_auto_columns": null,
            "margin": null,
            "display": null,
            "left": null
          }
        },
        "514d261e69fe4e49bc804657072972c3": {
          "model_module": "@jupyter-widgets/controls",
          "model_name": "DescriptionStyleModel",
          "state": {
            "_view_name": "StyleView",
            "_model_name": "DescriptionStyleModel",
            "description_width": "",
            "_view_module": "@jupyter-widgets/base",
            "_model_module_version": "1.5.0",
            "_view_count": null,
            "_view_module_version": "1.2.0",
            "_model_module": "@jupyter-widgets/controls"
          }
        },
        "d743181543794778b7cfe4b92208ac46": {
          "model_module": "@jupyter-widgets/base",
          "model_name": "LayoutModel",
          "state": {
            "_view_name": "LayoutView",
            "grid_template_rows": null,
            "right": null,
            "justify_content": null,
            "_view_module": "@jupyter-widgets/base",
            "overflow": null,
            "_model_module_version": "1.2.0",
            "_view_count": null,
            "flex_flow": null,
            "width": null,
            "min_width": null,
            "border": null,
            "align_items": null,
            "bottom": null,
            "_model_module": "@jupyter-widgets/base",
            "top": null,
            "grid_column": null,
            "overflow_y": null,
            "overflow_x": null,
            "grid_auto_flow": null,
            "grid_area": null,
            "grid_template_columns": null,
            "flex": null,
            "_model_name": "LayoutModel",
            "justify_items": null,
            "grid_row": null,
            "max_height": null,
            "align_content": null,
            "visibility": null,
            "align_self": null,
            "height": null,
            "min_height": null,
            "padding": null,
            "grid_auto_rows": null,
            "grid_gap": null,
            "max_width": null,
            "order": null,
            "_view_module_version": "1.2.0",
            "grid_template_areas": null,
            "object_position": null,
            "object_fit": null,
            "grid_auto_columns": null,
            "margin": null,
            "display": null,
            "left": null
          }
        }
      }
    }
  },
  "cells": [
    {
      "cell_type": "code",
      "metadata": {
        "id": "K4fpoGNN7tVd"
      },
      "source": [
        "import torch\n",
        "import torchvision\n",
        "import torchvision.transforms as transforms\n",
        "import torch.nn as nn\n",
        "import numpy as np\n",
        "import matplotlib.pyplot as plt\n",
        "%matplotlib inline\n",
        "from torchsummary import summary\n",
        "import pandas as pd"
      ],
      "execution_count": 1,
      "outputs": []
    },
    {
      "cell_type": "code",
      "metadata": {
        "id": "fpF9eBfUzJQi"
      },
      "source": [
        "transform = transforms.Compose([transforms.ToTensor(),transforms.CenterCrop(28),transforms.Normalize((0.5, 0.5, 0.5), (0.5, 0.5, 0.5))])"
      ],
      "execution_count": 2,
      "outputs": []
    },
    {
      "cell_type": "code",
      "metadata": {
        "colab": {
          "base_uri": "https://localhost:8080/",
          "height": 100,
          "referenced_widgets": [
            "8c74be5f7c684fcfb1839184d5584532",
            "9aa25c58ec044756adea9a6da296f7c1",
            "5e4b1ee7d0944b489da4f2d1618cf19f",
            "08230102b90f4a51b77b186617d96feb",
            "a540561c94be43118cea23fa42ba95d3",
            "412b85d2413f4255aab348d287ea6aee",
            "514d261e69fe4e49bc804657072972c3",
            "d743181543794778b7cfe4b92208ac46"
          ]
        },
        "id": "FYeskUTS7lu3",
        "outputId": "5406e22f-948c-4422-c357-cf986de4df25"
      },
      "source": [
        "trainset = torchvision.datasets.CIFAR10(root='./', train=True, download=True, transform=transform)\n",
        "testset = torchvision.datasets.CIFAR10(root='./', train=False, transform=transform)"
      ],
      "execution_count": 3,
      "outputs": [
        {
          "output_type": "stream",
          "text": [
            "Downloading https://www.cs.toronto.edu/~kriz/cifar-10-python.tar.gz to ./cifar-10-python.tar.gz\n"
          ],
          "name": "stdout"
        },
        {
          "output_type": "display_data",
          "data": {
            "application/vnd.jupyter.widget-view+json": {
              "model_id": "8c74be5f7c684fcfb1839184d5584532",
              "version_minor": 0,
              "version_major": 2
            },
            "text/plain": [
              "HBox(children=(FloatProgress(value=0.0, max=170498071.0), HTML(value='')))"
            ]
          },
          "metadata": {
            "tags": []
          }
        },
        {
          "output_type": "stream",
          "text": [
            "\n",
            "Extracting ./cifar-10-python.tar.gz to ./\n"
          ],
          "name": "stdout"
        }
      ]
    },
    {
      "cell_type": "code",
      "metadata": {
        "id": "kA0e2l4a7yL3"
      },
      "source": [
        "trainloader = torch.utils.data.DataLoader(trainset,batch_size=32, shuffle=True, num_workers=2,pin_memory=True)\n",
        "testloader = torch.utils.data.DataLoader(testset,batch_size=32, shuffle=False, num_workers=2,pin_memory=True)"
      ],
      "execution_count": 4,
      "outputs": []
    },
    {
      "cell_type": "code",
      "metadata": {
        "id": "RKffneOVzAC0"
      },
      "source": [
        "class ConvModule(nn.Module):\n",
        "    def __init__(self, in_channels, out_channels, kernel_size, stride, padding):\n",
        "        super(ConvModule, self).__init__()\n",
        "        \n",
        "        self.conv = nn.Conv2d(in_channels, out_channels, kernel_size, stride, padding)\n",
        "        self.bn = nn.BatchNorm2d(out_channels)\n",
        "        self.act = nn.ReLU()\n",
        "        \n",
        "    def forward(self, x):\n",
        "        x = self.conv(x)\n",
        "        x = self.bn(x)\n",
        "        x = self.act(x)\n",
        "        return x\n",
        " \n",
        "class InceptionModule(nn.Module):\n",
        "    \n",
        "    def __init__(self, in_channels, f_1x1, f_3x3):\n",
        "        super(InceptionModule, self).__init__()\n",
        "        \n",
        "        self.branch1 = nn.Sequential(\n",
        "            ConvModule(in_channels, f_1x1, kernel_size=1, stride=1, padding=0)\n",
        "        )\n",
        "        \n",
        "        self.branch2 = nn.Sequential(\n",
        "            ConvModule(in_channels, f_3x3, kernel_size=3, stride=1, padding=1)\n",
        "        )\n",
        "                \n",
        "    def forward(self, x):\n",
        "        branch1 = self.branch1(x)\n",
        "        branch2 = self.branch2(x)\n",
        "        return torch.cat([branch1, branch2], 1)\n",
        "\n",
        "\n",
        "class DownsampleModule(nn.Module):\n",
        "    def __init__(self, in_channels, f_3x3):\n",
        "        super(DownsampleModule, self).__init__()\n",
        "    \n",
        "        self.branch1 = nn.Sequential(ConvModule(in_channels, f_3x3, kernel_size=3, stride=2, padding=0))\n",
        "        self.branch2 = nn.MaxPool2d(3, stride=2)\n",
        "    \n",
        "    def forward(self, x):\n",
        "        branch1 = self.branch1(x)\n",
        "        branch2 = self.branch2(x)\n",
        "        return torch.cat([branch1, branch2], 1)\n",
        "   \n",
        "class InceptionSmall(nn.Module):\n",
        "    def __init__(self, num_classes = 10):\n",
        "        super(InceptionSmall, self).__init__()\n",
        "        \n",
        "        self.conv1 = ConvModule(in_channels =3,out_channels=96, kernel_size=3, stride=1, padding=0)\n",
        "        self.inception1 = InceptionModule(in_channels=96,f_1x1=32,f_3x3=32)\n",
        "        self.inception2 = InceptionModule(in_channels=64,f_1x1=32,f_3x3=48)\n",
        "        self.down1 = DownsampleModule(in_channels=80,f_3x3=80)\n",
        "        self.inception3 = InceptionModule(in_channels=160,f_1x1=112,f_3x3=48)\n",
        "        self.inception4 = InceptionModule(in_channels=160,f_1x1=96,f_3x3=64)\n",
        "        self.inception5 = InceptionModule(in_channels=160,f_1x1=80,f_3x3=80)\n",
        "        self.inception6 = InceptionModule(in_channels=160,f_1x1=48,f_3x3=96)   \n",
        "        self.down2 = DownsampleModule(in_channels=144,f_3x3=96)\n",
        "        self.inception7 = InceptionModule(in_channels=240,f_1x1=176,f_3x3=160)\n",
        "        self.inception8 = InceptionModule(in_channels=336,f_1x1=176,f_3x3=160)\n",
        "        self.meanpool = nn.AdaptiveAvgPool2d((7,7))\n",
        "        self.fc = nn.Linear(16464, num_classes)\n",
        "       \n",
        "    def forward(self, x):\n",
        "        x = self.conv1(x)\n",
        "        x = self.inception1(x)\n",
        "        x = self.inception2(x)\n",
        "        x = self.down1(x)\n",
        "        x = self.inception3(x)\n",
        "        x = self.inception4(x)\n",
        "        x = self.inception5(x)\n",
        "        x = self.inception6(x)\n",
        "        x = self.down2(x)\n",
        "        x = self.inception7(x)\n",
        "        x = self.inception8(x)\n",
        "        x = self.meanpool(x)\n",
        "        x = torch.flatten(x,1)\n",
        "        x = self.fc(x)\n",
        "        return x"
      ],
      "execution_count": 14,
      "outputs": []
    },
    {
      "cell_type": "code",
      "metadata": {
        "colab": {
          "base_uri": "https://localhost:8080/"
        },
        "id": "0Mo8l9Y_76_T",
        "outputId": "abde147a-1fa8-4d57-a92f-5f6b47a9d240"
      },
      "source": [
        "def get_device():\n",
        "  if torch.cuda.is_available():\n",
        "      return torch.device('cuda')\n",
        "  else:\n",
        "      return torch.device('cpu')\n",
        "device = get_device()\n",
        "device"
      ],
      "execution_count": 6,
      "outputs": [
        {
          "output_type": "execute_result",
          "data": {
            "text/plain": [
              "device(type='cuda')"
            ]
          },
          "metadata": {
            "tags": []
          },
          "execution_count": 6
        }
      ]
    },
    {
      "cell_type": "code",
      "metadata": {
        "id": "YcszL06Dw0ZA"
      },
      "source": [
        "def eval_model(model,trainloader,testloader):\n",
        "  model.eval()\n",
        "  correct = 0\n",
        "  total = 0\n",
        "  for i, data in enumerate(testloader, 0):\n",
        "    images, labels = data[0].to(device), data[1].to(device)\n",
        "    outputs = model(images)\n",
        "    _, preds = torch.max(outputs, dim=1)\n",
        "    total += labels.size(0)\n",
        "    correct += (preds == labels).sum().item()\n",
        "  acc_v = (correct / total)\n",
        "\n",
        "  correct = 0\n",
        "  total = 0            \n",
        "  for i, data in enumerate(trainloader, 0):\n",
        "    images, labels = data[0].to(device), data[1].to(device)\n",
        "    outputs = model(images)\n",
        "    _, preds = torch.max(outputs, dim=1)\n",
        "    total += labels.size(0)\n",
        "    correct += (preds == labels).sum().item()\n",
        "  acc_t = (correct / total)\n",
        "  return acc_t,acc_v\n",
        "\n",
        "def fit(epoch, model, trainloader, testloader, optimizer,scheduler):\n",
        "  history_t = []\n",
        "  history_v = []\n",
        "  step_count = 0\n",
        "  criterion = nn.CrossEntropyLoss().to(device)\n",
        "  for epoch in range(epoch):  \n",
        "    running_loss = 0.0\n",
        "    for i, data in enumerate(trainloader, 0):\n",
        "      inputs, labels = data[0].to(device), data[1].to(device)\n",
        "      optimizer.zero_grad()\n",
        "      outputs = model(inputs)\n",
        "      loss = criterion(outputs, labels)\n",
        "      loss.backward()\n",
        "      optimizer.step()\n",
        "      running_loss += loss.item()\n",
        "      step_count += 1\n",
        "      if step_count%1000==0:\n",
        "        acc_t,acc_v = eval_model(model,trainloader,testloader)\n",
        "        model.train()\n",
        "        history_t.append(acc_t)\n",
        "        history_v.append(acc_v)\n",
        "        log_ = str(step_count)+\",\"+str(acc_t)+\",\"+str(acc_v)+\"\\n\"\n",
        "        with open(\"model.log\", \"a\") as f:\n",
        "          f.write(log_)\n",
        "    print(\"Epoch {} | loss: {:.4f} | Train acc: {:.4f} | Val acc: {:.4f}\".format(epoch+1, running_loss,acc_t, acc_v))\n",
        "    scheduler.step()\n",
        "  return model,history_t,history_v"
      ],
      "execution_count": 8,
      "outputs": []
    },
    {
      "cell_type": "code",
      "metadata": {
        "id": "eodRzVV1CJkM",
        "colab": {
          "base_uri": "https://localhost:8080/"
        },
        "outputId": "a503a0d2-1c8f-4b14-e983-567386ea150f"
      },
      "source": [
        "net = InceptionSmall().to(device)\n",
        "optimizer = torch.optim.SGD(net.parameters(), lr=0.1, momentum=0.9)\n",
        "scheduler = torch.optim.lr_scheduler.StepLR(optimizer, 1, gamma=0.95)\n",
        "trained_model,history_t1,history_v1 = fit(100, net, trainloader, testloader, optimizer,scheduler)"
      ],
      "execution_count": 17,
      "outputs": [
        {
          "output_type": "stream",
          "text": [
            "Epoch 1 | loss: 4000.6874 | Train acc: 0.1000 | Val acc: 0.1001\n",
            "Epoch 2 | loss: 3362.1550 | Train acc: 0.2220 | Val acc: 0.2272\n",
            "Epoch 3 | loss: 2944.2078 | Train acc: 0.3054 | Val acc: 0.3046\n",
            "Epoch 4 | loss: 2689.0804 | Train acc: 0.3742 | Val acc: 0.3709\n",
            "Epoch 5 | loss: 2488.6883 | Train acc: 0.4275 | Val acc: 0.4254\n",
            "Epoch 6 | loss: 2299.1116 | Train acc: 0.5020 | Val acc: 0.4883\n",
            "Epoch 7 | loss: 2116.4169 | Train acc: 0.5233 | Val acc: 0.5055\n",
            "Epoch 8 | loss: 1925.2790 | Train acc: 0.5967 | Val acc: 0.5815\n",
            "Epoch 9 | loss: 1781.8259 | Train acc: 0.6311 | Val acc: 0.6060\n",
            "Epoch 10 | loss: 1665.2522 | Train acc: 0.6049 | Val acc: 0.5740\n",
            "Epoch 11 | loss: 1549.8891 | Train acc: 0.6624 | Val acc: 0.6300\n",
            "Epoch 12 | loss: 1455.2056 | Train acc: 0.7035 | Val acc: 0.6593\n",
            "Epoch 13 | loss: 1359.5569 | Train acc: 0.7297 | Val acc: 0.6777\n",
            "Epoch 14 | loss: 1268.3331 | Train acc: 0.7047 | Val acc: 0.6552\n",
            "Epoch 15 | loss: 1185.3405 | Train acc: 0.7616 | Val acc: 0.6920\n",
            "Epoch 16 | loss: 1102.5043 | Train acc: 0.7861 | Val acc: 0.7108\n",
            "Epoch 17 | loss: 1032.0831 | Train acc: 0.7922 | Val acc: 0.7087\n",
            "Epoch 18 | loss: 960.1272 | Train acc: 0.8288 | Val acc: 0.7188\n",
            "Epoch 19 | loss: 890.2405 | Train acc: 0.8321 | Val acc: 0.7183\n",
            "Epoch 20 | loss: 818.6013 | Train acc: 0.8529 | Val acc: 0.7245\n",
            "Epoch 21 | loss: 758.3913 | Train acc: 0.8527 | Val acc: 0.7125\n",
            "Epoch 22 | loss: 687.8192 | Train acc: 0.8821 | Val acc: 0.7232\n",
            "Epoch 23 | loss: 625.9582 | Train acc: 0.8999 | Val acc: 0.7251\n",
            "Epoch 24 | loss: 567.5805 | Train acc: 0.9079 | Val acc: 0.7225\n",
            "Epoch 25 | loss: 505.0115 | Train acc: 0.9051 | Val acc: 0.7176\n",
            "Epoch 26 | loss: 447.4590 | Train acc: 0.9356 | Val acc: 0.7292\n",
            "Epoch 27 | loss: 403.5765 | Train acc: 0.9400 | Val acc: 0.7277\n",
            "Epoch 28 | loss: 355.6645 | Train acc: 0.9486 | Val acc: 0.7201\n",
            "Epoch 29 | loss: 311.3038 | Train acc: 0.9496 | Val acc: 0.7119\n",
            "Epoch 30 | loss: 278.1612 | Train acc: 0.9654 | Val acc: 0.7240\n",
            "Epoch 31 | loss: 239.6437 | Train acc: 0.9718 | Val acc: 0.7181\n",
            "Epoch 32 | loss: 205.8984 | Train acc: 0.9721 | Val acc: 0.7189\n",
            "Epoch 33 | loss: 186.1937 | Train acc: 0.9833 | Val acc: 0.7253\n",
            "Epoch 34 | loss: 166.0452 | Train acc: 0.9818 | Val acc: 0.7255\n",
            "Epoch 35 | loss: 145.0761 | Train acc: 0.9852 | Val acc: 0.7236\n",
            "Epoch 36 | loss: 122.8417 | Train acc: 0.9894 | Val acc: 0.7269\n",
            "Epoch 37 | loss: 108.9872 | Train acc: 0.9883 | Val acc: 0.7312\n",
            "Epoch 38 | loss: 95.8265 | Train acc: 0.9910 | Val acc: 0.7287\n",
            "Epoch 39 | loss: 84.2932 | Train acc: 0.9938 | Val acc: 0.7293\n",
            "Epoch 40 | loss: 70.5076 | Train acc: 0.9942 | Val acc: 0.7235\n",
            "Epoch 41 | loss: 60.1296 | Train acc: 0.9952 | Val acc: 0.7338\n",
            "Epoch 42 | loss: 52.3560 | Train acc: 0.9981 | Val acc: 0.7423\n",
            "Epoch 43 | loss: 49.2134 | Train acc: 0.9978 | Val acc: 0.7305\n",
            "Epoch 44 | loss: 45.6693 | Train acc: 0.9976 | Val acc: 0.7296\n",
            "Epoch 45 | loss: 36.3042 | Train acc: 0.9987 | Val acc: 0.7324\n",
            "Epoch 46 | loss: 33.9611 | Train acc: 0.9988 | Val acc: 0.7355\n",
            "Epoch 47 | loss: 28.4276 | Train acc: 0.9992 | Val acc: 0.7356\n",
            "Epoch 48 | loss: 23.4520 | Train acc: 0.9996 | Val acc: 0.7327\n",
            "Epoch 49 | loss: 26.8298 | Train acc: 0.9996 | Val acc: 0.7340\n",
            "Epoch 50 | loss: 22.3080 | Train acc: 0.9996 | Val acc: 0.7365\n",
            "Epoch 51 | loss: 18.8663 | Train acc: 0.9998 | Val acc: 0.7372\n",
            "Epoch 52 | loss: 12.9296 | Train acc: 0.9999 | Val acc: 0.7335\n",
            "Epoch 53 | loss: 10.5577 | Train acc: 0.9999 | Val acc: 0.7334\n",
            "Epoch 54 | loss: 11.7552 | Train acc: 0.9999 | Val acc: 0.7359\n",
            "Epoch 55 | loss: 9.8764 | Train acc: 0.9999 | Val acc: 0.7388\n",
            "Epoch 56 | loss: 10.5044 | Train acc: 1.0000 | Val acc: 0.7356\n",
            "Epoch 57 | loss: 10.6736 | Train acc: 1.0000 | Val acc: 0.7336\n",
            "Epoch 58 | loss: 9.1324 | Train acc: 1.0000 | Val acc: 0.7384\n",
            "Epoch 59 | loss: 6.3061 | Train acc: 1.0000 | Val acc: 0.7392\n",
            "Epoch 60 | loss: 7.1161 | Train acc: 1.0000 | Val acc: 0.7393\n",
            "Epoch 61 | loss: 6.1039 | Train acc: 1.0000 | Val acc: 0.7381\n",
            "Epoch 62 | loss: 6.7551 | Train acc: 1.0000 | Val acc: 0.7377\n",
            "Epoch 63 | loss: 5.3700 | Train acc: 1.0000 | Val acc: 0.7391\n",
            "Epoch 64 | loss: 4.9144 | Train acc: 1.0000 | Val acc: 0.7388\n",
            "Epoch 65 | loss: 4.2715 | Train acc: 1.0000 | Val acc: 0.7372\n",
            "Epoch 66 | loss: 6.1135 | Train acc: 1.0000 | Val acc: 0.7382\n",
            "Epoch 67 | loss: 4.2175 | Train acc: 1.0000 | Val acc: 0.7385\n",
            "Epoch 68 | loss: 3.4136 | Train acc: 1.0000 | Val acc: 0.7405\n",
            "Epoch 69 | loss: 2.8443 | Train acc: 1.0000 | Val acc: 0.7413\n",
            "Epoch 70 | loss: 3.1148 | Train acc: 1.0000 | Val acc: 0.7412\n",
            "Epoch 71 | loss: 3.3881 | Train acc: 1.0000 | Val acc: 0.7387\n",
            "Epoch 72 | loss: 2.4142 | Train acc: 1.0000 | Val acc: 0.7398\n",
            "Epoch 73 | loss: 3.8466 | Train acc: 1.0000 | Val acc: 0.7413\n",
            "Epoch 74 | loss: 2.2335 | Train acc: 1.0000 | Val acc: 0.7392\n",
            "Epoch 75 | loss: 2.0877 | Train acc: 1.0000 | Val acc: 0.7421\n",
            "Epoch 76 | loss: 3.6441 | Train acc: 1.0000 | Val acc: 0.7413\n",
            "Epoch 77 | loss: 1.8711 | Train acc: 1.0000 | Val acc: 0.7405\n",
            "Epoch 78 | loss: 2.3410 | Train acc: 1.0000 | Val acc: 0.7414\n",
            "Epoch 79 | loss: 2.1696 | Train acc: 1.0000 | Val acc: 0.7405\n",
            "Epoch 80 | loss: 2.6091 | Train acc: 1.0000 | Val acc: 0.7415\n",
            "Epoch 81 | loss: 2.3125 | Train acc: 1.0000 | Val acc: 0.7402\n",
            "Epoch 82 | loss: 2.0891 | Train acc: 1.0000 | Val acc: 0.7436\n",
            "Epoch 83 | loss: 2.0920 | Train acc: 1.0000 | Val acc: 0.7411\n",
            "Epoch 84 | loss: 1.8819 | Train acc: 1.0000 | Val acc: 0.7400\n",
            "Epoch 85 | loss: 1.7007 | Train acc: 1.0000 | Val acc: 0.7412\n",
            "Epoch 86 | loss: 2.0327 | Train acc: 1.0000 | Val acc: 0.7403\n",
            "Epoch 87 | loss: 2.4436 | Train acc: 1.0000 | Val acc: 0.7404\n",
            "Epoch 88 | loss: 1.6157 | Train acc: 1.0000 | Val acc: 0.7417\n",
            "Epoch 89 | loss: 2.2745 | Train acc: 1.0000 | Val acc: 0.7423\n",
            "Epoch 90 | loss: 1.7323 | Train acc: 1.0000 | Val acc: 0.7419\n",
            "Epoch 91 | loss: 1.5548 | Train acc: 1.0000 | Val acc: 0.7430\n",
            "Epoch 92 | loss: 1.3858 | Train acc: 1.0000 | Val acc: 0.7400\n",
            "Epoch 93 | loss: 2.7755 | Train acc: 1.0000 | Val acc: 0.7404\n",
            "Epoch 94 | loss: 2.1431 | Train acc: 1.0000 | Val acc: 0.7432\n",
            "Epoch 95 | loss: 1.1227 | Train acc: 1.0000 | Val acc: 0.7424\n",
            "Epoch 96 | loss: 1.2974 | Train acc: 1.0000 | Val acc: 0.7428\n",
            "Epoch 97 | loss: 1.7361 | Train acc: 1.0000 | Val acc: 0.7406\n",
            "Epoch 98 | loss: 1.8586 | Train acc: 1.0000 | Val acc: 0.7403\n",
            "Epoch 99 | loss: 2.0878 | Train acc: 1.0000 | Val acc: 0.7430\n",
            "Epoch 100 | loss: 1.4702 | Train acc: 1.0000 | Val acc: 0.7427\n"
          ],
          "name": "stdout"
        }
      ]
    },
    {
      "cell_type": "code",
      "metadata": {
        "colab": {
          "base_uri": "https://localhost:8080/",
          "height": 295
        },
        "id": "KHxzSVoN_jHN",
        "outputId": "6b2b14b5-c286-4aac-ffc5-41f336be15f1"
      },
      "source": [
        "plt.plot(list(history_t1),label='Train')\n",
        "plt.plot(list(history_v1),label='Test')\n",
        "plt.xlabel('Training Steps')\n",
        "plt.ylabel('Accuracy')\n",
        "plt.title('Inception Small on Cifar-10')\n",
        "plt.legend()\n",
        "plt.show()"
      ],
      "execution_count": 18,
      "outputs": [
        {
          "output_type": "display_data",
          "data": {
            "image/png": "[encoded data removed]",
            "text/plain": [
              "<Figure size 432x288 with 1 Axes>"
            ]
          },
          "metadata": {
            "tags": [],
            "needs_background": "light"
          }
        }
      ]
    },
    {
      "cell_type": "markdown",
      "metadata": {
        "id": "oCIv5f9hrIlc"
      },
      "source": [
        "Without Batch Normalization"
      ]
    },
    {
      "cell_type": "code",
      "metadata": {
        "id": "Wncdm2coHR6v"
      },
      "source": [
        "class ConvModule(nn.Module):\n",
        "    def __init__(self, in_channels, out_channels, kernel_size, stride, padding):\n",
        "        super(ConvModule, self).__init__()\n",
        "        \n",
        "        self.conv = nn.Conv2d(in_channels, out_channels, kernel_size, stride, padding)\n",
        "        self.act = nn.ReLU()\n",
        "        \n",
        "    def forward(self, x):\n",
        "        x = self.conv(x)\n",
        "        x = self.act(x)\n",
        "        return x\n",
        " \n",
        "class InceptionModule(nn.Module):\n",
        "    \n",
        "    def __init__(self, in_channels, f_1x1, f_3x3):\n",
        "        super(InceptionModule, self).__init__()\n",
        "        \n",
        "        self.branch1 = nn.Sequential(\n",
        "            ConvModule(in_channels, f_1x1, kernel_size=1, stride=1, padding=0)\n",
        "        )\n",
        "        \n",
        "        self.branch2 = nn.Sequential(\n",
        "            ConvModule(in_channels, f_3x3, kernel_size=3, stride=1, padding=1)\n",
        "        )\n",
        "                \n",
        "    def forward(self, x):\n",
        "        branch1 = self.branch1(x)\n",
        "        branch2 = self.branch2(x)\n",
        "        return torch.cat([branch1, branch2], 1)\n",
        "\n",
        "\n",
        "class DownsampleModule(nn.Module):\n",
        "    def __init__(self, in_channels, f_3x3):\n",
        "        super(DownsampleModule, self).__init__()\n",
        "    \n",
        "        self.branch1 = nn.Sequential(ConvModule(in_channels, f_3x3, kernel_size=3, stride=2, padding=0))\n",
        "        self.branch2 = nn.MaxPool2d(3, stride=2)\n",
        "    \n",
        "    def forward(self, x):\n",
        "        branch1 = self.branch1(x)\n",
        "        branch2 = self.branch2(x)\n",
        "        return torch.cat([branch1, branch2], 1)\n",
        "\n",
        "class InceptionSmall2(nn.Module):\n",
        "    def __init__(self, num_classes = 10):\n",
        "        super(InceptionSmall2, self).__init__()\n",
        "        \n",
        "        self.conv1 = ConvModule(in_channels =3,out_channels=96, kernel_size=3, stride=1, padding=0)\n",
        "        self.inception1 = InceptionModule(in_channels=96,f_1x1=32,f_3x3=32)\n",
        "        self.inception2 = InceptionModule(in_channels=64,f_1x1=32,f_3x3=48)\n",
        "        self.down1 = DownsampleModule(in_channels=80,f_3x3=80)\n",
        "        self.inception3 = InceptionModule(in_channels=160,f_1x1=112,f_3x3=48)\n",
        "        self.inception4 = InceptionModule(in_channels=160,f_1x1=96,f_3x3=64)\n",
        "        self.inception5 = InceptionModule(in_channels=160,f_1x1=80,f_3x3=80)\n",
        "        self.inception6 = InceptionModule(in_channels=160,f_1x1=48,f_3x3=96)   \n",
        "        self.down2 = DownsampleModule(in_channels=144,f_3x3=96)\n",
        "        self.inception7 = InceptionModule(in_channels=240,f_1x1=176,f_3x3=160)\n",
        "        self.inception8 = InceptionModule(in_channels=336,f_1x1=176,f_3x3=160)\n",
        "        self.meanpool = nn.AdaptiveAvgPool2d((7,7))\n",
        "        self.fc = nn.Linear(16464, num_classes)\n",
        "       \n",
        "    def forward(self, x):\n",
        "        x = self.conv1(x)\n",
        "        x = self.inception1(x)\n",
        "        x = self.inception2(x)\n",
        "        x = self.down1(x)\n",
        "        x = self.inception3(x)\n",
        "        x = self.inception4(x)\n",
        "        x = self.inception5(x)\n",
        "        x = self.inception6(x)\n",
        "        x = self.down2(x)\n",
        "        x = self.inception7(x)\n",
        "        x = self.inception8(x)\n",
        "        x = self.meanpool(x)\n",
        "        x = torch.flatten(x,1)\n",
        "        x = self.fc(x)\n",
        "        return x"
      ],
      "execution_count": 7,
      "outputs": []
    },
    {
      "cell_type": "code",
      "metadata": {
        "colab": {
          "base_uri": "https://localhost:8080/"
        },
        "id": "8Jkp90ai8KFd",
        "outputId": "dd8e640c-b222-4270-9e92-e252020213a0"
      },
      "source": [
        "net = InceptionSmall2().to(device)\n",
        "optimizer = torch.optim.SGD(net.parameters(), lr=0.001, momentum=0.9)\n",
        "scheduler = torch.optim.lr_scheduler.StepLR(optimizer, 100, gamma=1.0)\n",
        "trained_model2,history_t2,history_v2 = fit(50, net, trainloader, testloader, optimizer,scheduler)"
      ],
      "execution_count": 10,
      "outputs": [
        {
          "output_type": "stream",
          "text": [
            "Epoch 1 | loss: 3600.0638 | Train acc: 0.1000 | Val acc: 0.1000\n",
            "Epoch 2 | loss: 3599.5477 | Train acc: 0.1000 | Val acc: 0.1000\n",
            "Epoch 3 | loss: 3599.5158 | Train acc: 0.1000 | Val acc: 0.1000\n",
            "Epoch 4 | loss: 3599.4431 | Train acc: 0.1000 | Val acc: 0.1000\n",
            "Epoch 5 | loss: 3599.3711 | Train acc: 0.1000 | Val acc: 0.1000\n",
            "Epoch 6 | loss: 3599.2670 | Train acc: 0.1000 | Val acc: 0.1000\n",
            "Epoch 7 | loss: 3599.1976 | Train acc: 0.1000 | Val acc: 0.1000\n",
            "Epoch 8 | loss: 3599.1291 | Train acc: 0.1000 | Val acc: 0.1000\n",
            "Epoch 9 | loss: 3599.1957 | Train acc: 0.1000 | Val acc: 0.1000\n",
            "Epoch 10 | loss: 3599.0599 | Train acc: 0.1000 | Val acc: 0.1000\n",
            "Epoch 11 | loss: 3598.9738 | Train acc: 0.1000 | Val acc: 0.1000\n",
            "Epoch 12 | loss: 3598.6439 | Train acc: 0.1427 | Val acc: 0.1442\n",
            "Epoch 13 | loss: 3582.8356 | Train acc: 0.1736 | Val acc: 0.1744\n",
            "Epoch 14 | loss: 3061.0582 | Train acc: 0.2550 | Val acc: 0.2541\n",
            "Epoch 15 | loss: 2835.2798 | Train acc: 0.3065 | Val acc: 0.2998\n",
            "Epoch 16 | loss: 2626.7940 | Train acc: 0.4250 | Val acc: 0.4137\n",
            "Epoch 17 | loss: 2367.3794 | Train acc: 0.4476 | Val acc: 0.4383\n",
            "Epoch 18 | loss: 2213.1388 | Train acc: 0.5124 | Val acc: 0.5009\n",
            "Epoch 19 | loss: 2091.5135 | Train acc: 0.5109 | Val acc: 0.5052\n",
            "Epoch 20 | loss: 1970.6036 | Train acc: 0.5600 | Val acc: 0.5568\n",
            "Epoch 21 | loss: 1858.2000 | Train acc: 0.5740 | Val acc: 0.5634\n",
            "Epoch 22 | loss: 1761.9821 | Train acc: 0.6227 | Val acc: 0.6045\n",
            "Epoch 23 | loss: 1674.5987 | Train acc: 0.6221 | Val acc: 0.6052\n",
            "Epoch 24 | loss: 1589.3936 | Train acc: 0.6589 | Val acc: 0.6357\n",
            "Epoch 25 | loss: 1509.9796 | Train acc: 0.6745 | Val acc: 0.6460\n",
            "Epoch 26 | loss: 1437.7732 | Train acc: 0.6864 | Val acc: 0.6549\n",
            "Epoch 27 | loss: 1377.4942 | Train acc: 0.7111 | Val acc: 0.6749\n",
            "Epoch 28 | loss: 1313.7187 | Train acc: 0.7233 | Val acc: 0.6814\n",
            "Epoch 29 | loss: 1249.2515 | Train acc: 0.7266 | Val acc: 0.6824\n",
            "Epoch 30 | loss: 1194.3113 | Train acc: 0.7256 | Val acc: 0.6757\n",
            "Epoch 31 | loss: 1140.4113 | Train acc: 0.7637 | Val acc: 0.7143\n",
            "Epoch 32 | loss: 1087.2516 | Train acc: 0.7755 | Val acc: 0.7139\n",
            "Epoch 33 | loss: 1036.8297 | Train acc: 0.7735 | Val acc: 0.7128\n",
            "Epoch 34 | loss: 981.4648 | Train acc: 0.7968 | Val acc: 0.7287\n",
            "Epoch 35 | loss: 934.3048 | Train acc: 0.8049 | Val acc: 0.7303\n",
            "Epoch 36 | loss: 890.3158 | Train acc: 0.8159 | Val acc: 0.7334\n",
            "Epoch 37 | loss: 841.5934 | Train acc: 0.8310 | Val acc: 0.7400\n",
            "Epoch 38 | loss: 797.9438 | Train acc: 0.8369 | Val acc: 0.7357\n",
            "Epoch 39 | loss: 751.2193 | Train acc: 0.8376 | Val acc: 0.7361\n",
            "Epoch 40 | loss: 700.6928 | Train acc: 0.8637 | Val acc: 0.7444\n",
            "Epoch 41 | loss: 659.3862 | Train acc: 0.8539 | Val acc: 0.7330\n",
            "Epoch 42 | loss: 609.0031 | Train acc: 0.8873 | Val acc: 0.7472\n",
            "Epoch 43 | loss: 558.5875 | Train acc: 0.8671 | Val acc: 0.7307\n",
            "Epoch 44 | loss: 521.3670 | Train acc: 0.8839 | Val acc: 0.7367\n",
            "Epoch 45 | loss: 475.4712 | Train acc: 0.9199 | Val acc: 0.7508\n",
            "Epoch 46 | loss: 436.2564 | Train acc: 0.9203 | Val acc: 0.7445\n",
            "Epoch 47 | loss: 390.5891 | Train acc: 0.9389 | Val acc: 0.7441\n",
            "Epoch 48 | loss: 350.4387 | Train acc: 0.9329 | Val acc: 0.7378\n",
            "Epoch 49 | loss: 317.2470 | Train acc: 0.9417 | Val acc: 0.7402\n",
            "Epoch 50 | loss: 281.0126 | Train acc: 0.9554 | Val acc: 0.7458\n"
          ],
          "name": "stdout"
        }
      ]
    },
    {
      "cell_type": "code",
      "metadata": {
        "id": "d6z_Qpiy87bB",
        "colab": {
          "base_uri": "https://localhost:8080/",
          "height": 295
        },
        "outputId": "9fb41fec-d0f6-4ed2-aa6a-7f34297ff1ba"
      },
      "source": [
        "plt.plot(list(history_t2),label='Train, w/o BN')\n",
        "plt.plot(list(history_v2),label='Test, w/o BN')\n",
        "plt.xlabel('Training Steps')\n",
        "plt.ylabel('Accuracy')\n",
        "plt.title('Inception Small on Cifar-10')\n",
        "plt.legend()\n",
        "plt.show()"
      ],
      "execution_count": 11,
      "outputs": [
        {
          "output_type": "display_data",
          "data": {
            "image/png": "[encoded data removed]",
            "text/plain": [
              "<Figure size 432x288 with 1 Axes>"
            ]
          },
          "metadata": {
            "tags": [],
            "needs_background": "light"
          }
        }
      ]
    },
    {
      "cell_type": "code",
      "metadata": {
        "colab": {
          "base_uri": "https://localhost:8080/"
        },
        "id": "iKobJCwDjTY7",
        "outputId": "5ff16616-a4e4-49c2-e0a7-bbc517b82197"
      },
      "source": [
        "trained_model2,history_t21,history_v21 = fit(50, trained_model2, trainloader, testloader, optimizer,scheduler)"
      ],
      "execution_count": 12,
      "outputs": [
        {
          "output_type": "stream",
          "text": [
            "Epoch 1 | loss: 255.7403 | Train acc: 0.9385 | Val acc: 0.7313\n",
            "Epoch 2 | loss: 233.6752 | Train acc: 0.9692 | Val acc: 0.7394\n",
            "Epoch 3 | loss: 216.0887 | Train acc: 0.9398 | Val acc: 0.7337\n",
            "Epoch 4 | loss: 189.0141 | Train acc: 0.9593 | Val acc: 0.7400\n",
            "Epoch 5 | loss: 171.8858 | Train acc: 0.9661 | Val acc: 0.7384\n",
            "Epoch 6 | loss: 153.8803 | Train acc: 0.9772 | Val acc: 0.7435\n",
            "Epoch 7 | loss: 153.5369 | Train acc: 0.9784 | Val acc: 0.7398\n",
            "Epoch 8 | loss: 122.5132 | Train acc: 0.9756 | Val acc: 0.7427\n",
            "Epoch 9 | loss: 129.9031 | Train acc: 0.9843 | Val acc: 0.7475\n",
            "Epoch 10 | loss: 118.3773 | Train acc: 0.9761 | Val acc: 0.7383\n",
            "Epoch 11 | loss: 97.0737 | Train acc: 0.9872 | Val acc: 0.7468\n",
            "Epoch 12 | loss: 99.4071 | Train acc: 0.9829 | Val acc: 0.7428\n",
            "Epoch 13 | loss: 88.7162 | Train acc: 0.9866 | Val acc: 0.7471\n",
            "Epoch 14 | loss: 81.6269 | Train acc: 0.9897 | Val acc: 0.7462\n",
            "Epoch 15 | loss: 78.2803 | Train acc: 0.9729 | Val acc: 0.7361\n",
            "Epoch 16 | loss: 87.4924 | Train acc: 0.9788 | Val acc: 0.7399\n",
            "Epoch 17 | loss: 77.1424 | Train acc: 0.9815 | Val acc: 0.7424\n",
            "Epoch 18 | loss: 59.6638 | Train acc: 0.9780 | Val acc: 0.7343\n",
            "Epoch 19 | loss: 63.7844 | Train acc: 0.9892 | Val acc: 0.7450\n",
            "Epoch 20 | loss: 64.2133 | Train acc: 0.9904 | Val acc: 0.7465\n",
            "Epoch 21 | loss: 59.2628 | Train acc: 0.9891 | Val acc: 0.7426\n",
            "Epoch 22 | loss: 56.0442 | Train acc: 0.9882 | Val acc: 0.7429\n",
            "Epoch 23 | loss: 47.9900 | Train acc: 0.9876 | Val acc: 0.7431\n",
            "Epoch 24 | loss: 58.4580 | Train acc: 0.9914 | Val acc: 0.7465\n",
            "Epoch 25 | loss: 50.7959 | Train acc: 0.9938 | Val acc: 0.7504\n",
            "Epoch 26 | loss: 35.0332 | Train acc: 0.9947 | Val acc: 0.7501\n",
            "Epoch 27 | loss: 44.7892 | Train acc: 0.9964 | Val acc: 0.7473\n",
            "Epoch 28 | loss: 44.1388 | Train acc: 0.9941 | Val acc: 0.7477\n",
            "Epoch 29 | loss: 37.6423 | Train acc: 0.9908 | Val acc: 0.7399\n",
            "Epoch 30 | loss: 39.6246 | Train acc: 0.9895 | Val acc: 0.7483\n",
            "Epoch 31 | loss: 42.4147 | Train acc: 0.9881 | Val acc: 0.7439\n",
            "Epoch 32 | loss: 35.8418 | Train acc: 0.9949 | Val acc: 0.7522\n",
            "Epoch 33 | loss: 42.4497 | Train acc: 0.9946 | Val acc: 0.7502\n",
            "Epoch 34 | loss: 36.1178 | Train acc: 0.9915 | Val acc: 0.7465\n",
            "Epoch 35 | loss: 33.9910 | Train acc: 0.9920 | Val acc: 0.7463\n",
            "Epoch 36 | loss: 20.7239 | Train acc: 0.9971 | Val acc: 0.7563\n",
            "Epoch 37 | loss: 34.8675 | Train acc: 0.9844 | Val acc: 0.7362\n",
            "Epoch 38 | loss: 33.4625 | Train acc: 0.9943 | Val acc: 0.7511\n",
            "Epoch 39 | loss: 34.1731 | Train acc: 0.9956 | Val acc: 0.7475\n",
            "Epoch 40 | loss: 18.5797 | Train acc: 0.9971 | Val acc: 0.7543\n",
            "Epoch 41 | loss: 19.1908 | Train acc: 0.9966 | Val acc: 0.7545\n",
            "Epoch 42 | loss: 39.7897 | Train acc: 0.9937 | Val acc: 0.7538\n",
            "Epoch 43 | loss: 20.5782 | Train acc: 0.9947 | Val acc: 0.7506\n",
            "Epoch 44 | loss: 23.0649 | Train acc: 0.9975 | Val acc: 0.7528\n",
            "Epoch 45 | loss: 19.1272 | Train acc: 0.9888 | Val acc: 0.7490\n",
            "Epoch 46 | loss: 19.3193 | Train acc: 0.9992 | Val acc: 0.7574\n",
            "Epoch 47 | loss: 24.1437 | Train acc: 0.9980 | Val acc: 0.7543\n",
            "Epoch 48 | loss: 14.1427 | Train acc: 0.9985 | Val acc: 0.7549\n",
            "Epoch 49 | loss: 8.7924 | Train acc: 0.9965 | Val acc: 0.7516\n",
            "Epoch 50 | loss: 19.5241 | Train acc: 0.9891 | Val acc: 0.7402\n"
          ],
          "name": "stdout"
        }
      ]
    },
    {
      "cell_type": "code",
      "metadata": {
        "colab": {
          "base_uri": "https://localhost:8080/",
          "height": 295
        },
        "id": "aZ3oiRS_pXdn",
        "outputId": "088ae059-c04b-43d0-c7b7-4d6051a7568c"
      },
      "source": [
        "plt.plot(list(history_t2+history_t21),label='Train, w/o BN')\n",
        "plt.plot(list(history_v2+history_v21),label='Test, w/o BN')\n",
        "plt.xlabel('Training Steps')\n",
        "plt.ylabel('Accuracy')\n",
        "plt.title('Inception Small on Cifar-10')\n",
        "plt.legend()\n",
        "plt.show()"
      ],
      "execution_count": 13,
      "outputs": [
        {
          "output_type": "display_data",
          "data": {
            "image/png": "[encoded data removed]",
            "text/plain": [
              "<Figure size 432x288 with 1 Axes>"
            ]
          },
          "metadata": {
            "tags": [],
            "needs_background": "light"
          }
        }
      ]
    },
    {
      "cell_type": "code",
      "metadata": {
        "id": "eWoXuHqeB6KV",
        "colab": {
          "base_uri": "https://localhost:8080/",
          "height": 295
        },
        "outputId": "1dcda2da-2874-42d0-a30d-c6300dc046e6"
      },
      "source": [
        "plt.plot(list(history_t1),label='Train')\n",
        "plt.plot(list(history_v1),label='Test')\n",
        "plt.plot(list(history_t2+history_t21),label='Train, w/o BN')\n",
        "plt.plot(list(history_v2+history_v21),label='Test, w/o BN')\n",
        "plt.xlabel('Training Steps')\n",
        "plt.ylabel('Accuracy')\n",
        "plt.title('Inception Small on CIFAR-10 ')\n",
        "plt.legend()\n",
        "plt.show()"
      ],
      "execution_count": 19,
      "outputs": [
        {
          "output_type": "display_data",
          "data": {
            "image/png": "[encoded data removed]",
            "text/plain": [
              "<Figure size 432x288 with 1 Axes>"
            ]
          },
          "metadata": {
            "tags": [],
            "needs_background": "light"
          }
        }
      ]
    }
  ]
}